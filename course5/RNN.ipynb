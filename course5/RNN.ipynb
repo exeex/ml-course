{
 "cells": [
  {
   "cell_type": "code",
   "execution_count": 1,
   "metadata": {
    "ExecuteTime": {
     "end_time": "2018-05-14T07:16:24.883491Z",
     "start_time": "2018-05-14T07:16:20.414898Z"
    }
   },
   "outputs": [
    {
     "name": "stderr",
     "output_type": "stream",
     "text": [
      "C:\\Users\\P15F\\Anaconda3\\lib\\site-packages\\h5py\\__init__.py:34: FutureWarning: Conversion of the second argument of issubdtype from `float` to `np.floating` is deprecated. In future, it will be treated as `np.float64 == np.dtype(float).type`.\n",
      "  from ._conv import register_converters as _register_converters\n"
     ]
    }
   ],
   "source": [
    "import tensorflow as tf\n",
    "from tensorflow.contrib import rnn\n",
    "import matplotlib.pyplot as plt"
   ]
  },
  {
   "cell_type": "code",
   "execution_count": 2,
   "metadata": {
    "ExecuteTime": {
     "end_time": "2018-05-14T07:16:25.748604Z",
     "start_time": "2018-05-14T07:16:24.893500Z"
    }
   },
   "outputs": [
    {
     "name": "stdout",
     "output_type": "stream",
     "text": [
      "Extracting ./data/train-images-idx3-ubyte.gz\n",
      "Extracting ./data/train-labels-idx1-ubyte.gz\n",
      "Extracting ./data/t10k-images-idx3-ubyte.gz\n",
      "Extracting ./data/t10k-labels-idx1-ubyte.gz\n"
     ]
    }
   ],
   "source": [
    "# Import MNIST data\n",
    "from tensorflow.examples.tutorials.mnist import input_data\n",
    "mnist = input_data.read_data_sets(\"./data/\", one_hot=True)"
   ]
  },
  {
   "cell_type": "code",
   "execution_count": 3,
   "metadata": {
    "ExecuteTime": {
     "end_time": "2018-05-14T07:16:25.762616Z",
     "start_time": "2018-05-14T07:16:25.751108Z"
    },
    "collapsed": true
   },
   "outputs": [],
   "source": [
    "# Parameters for training\n",
    "learning_rate = 0.001\n",
    "batch_size = 128\n",
    "display_step = 100\n",
    "total_epochs = 10\n",
    "\n",
    "# TODO: Parameters for constructing the model\n",
    "input_size = \n",
    "timesteps = \n",
    "hidden_size = \n",
    "num_classes = "
   ]
  },
  {
   "cell_type": "code",
   "execution_count": 4,
   "metadata": {
    "ExecuteTime": {
     "end_time": "2018-05-14T07:16:26.827661Z",
     "start_time": "2018-05-14T07:16:26.796138Z"
    },
    "collapsed": true
   },
   "outputs": [],
   "source": [
    "# Define input X and output Y\n",
    "X = tf.placeholder('float', [None, timesteps, input_size])\n",
    "Y = tf.placeholder('float', [None, num_classes])\n",
    "\n",
    "# Define weight and bias for fully connected layer \n",
    "# which is used after rnn\n",
    "weights = {\n",
    "    'out': tf.Variable(tf.random_normal([hidden_size, num_classes]))\n",
    "}\n",
    "biases = {\n",
    "    'out': tf.Variable(tf.random_normal([num_classes]))\n",
    "}"
   ]
  },
  {
   "cell_type": "code",
   "execution_count": 5,
   "metadata": {
    "ExecuteTime": {
     "end_time": "2018-05-14T07:16:27.780303Z",
     "start_time": "2018-05-14T07:16:27.763788Z"
    }
   },
   "outputs": [],
   "source": [
    "def RNN(x, wieghts, bias):\n",
    "    # Input x needs to be processed before feed into the rnn model\n",
    "    # Current data shape: batch_size * length * width\n",
    "    # Required data shape: 'timesteps' tensors lists of shape batch_size * input_size\n",
    "    \n",
    "    x = tf.unstack(x, timesteps, 1)\n",
    "\n",
    "    # Define rnn cell\n",
    "    #rnn_cell = rnn.BasicRNNCell(hidden_size)\n",
    "    rnn_cell = rnn.BasicLSTMCell(hidden_size, forget_bias=1.0)\n",
    "    #rnn_cell = rnn.GRUCell(hidden_size)\n",
    "\n",
    "    # Create a recurrent neural network(rnn)\n",
    "    outputs, state = rnn.static_rnn(rnn_cell, x, dtype=tf.float32)\n",
    "\n",
    "    # Connect the last hidden state of rnn \n",
    "    # to a fully connected layer to do classification\n",
    "    y_pred = tf.matmul(outputs[-1], weights['out']) + biases['out']\n",
    "    \n",
    "    return y_pred"
   ]
  },
  {
   "cell_type": "code",
   "execution_count": 6,
   "metadata": {
    "ExecuteTime": {
     "end_time": "2018-05-14T07:16:31.953130Z",
     "start_time": "2018-05-14T07:16:29.044986Z"
    }
   },
   "outputs": [
    {
     "name": "stdout",
     "output_type": "stream",
     "text": [
      "WARNING:tensorflow:From <ipython-input-6-c14cc0f885df>:5: softmax_cross_entropy_with_logits (from tensorflow.python.ops.nn_ops) is deprecated and will be removed in a future version.\n",
      "Instructions for updating:\n",
      "\n",
      "Future major versions of TensorFlow will allow gradients to flow\n",
      "into the labels input on backprop by default.\n",
      "\n",
      "See tf.nn.softmax_cross_entropy_with_logits_v2.\n",
      "\n"
     ]
    }
   ],
   "source": [
    "logits = RNN(X, weights, biases)\n",
    "\n",
    "# Define loss function\n",
    "loss_op = tf.reduce_mean(tf.nn.softmax_cross_entropy_with_logits(\n",
    "    logits=logits, labels=Y))\n",
    "\n",
    "# Define optimizer\n",
    "optimizer = tf.train.AdamOptimizer(learning_rate=learning_rate)\n",
    "train_op = optimizer.minimize(loss_op)\n",
    "\n",
    "# Calculate accuracy\n",
    "correct_pred = tf.equal(tf.argmax(logits, 1), tf.argmax(Y, 1))\n",
    "accuracy = tf.reduce_mean(tf.cast(correct_pred, tf.float32))\n",
    "\n",
    "# Initialize the variables\n",
    "init = tf.global_variables_initializer()"
   ]
  },
  {
   "cell_type": "code",
   "execution_count": 7,
   "metadata": {
    "ExecuteTime": {
     "end_time": "2018-05-14T07:21:15.367702Z",
     "start_time": "2018-05-14T07:16:49.406476Z"
    }
   },
   "outputs": [
    {
     "name": "stdout",
     "output_type": "stream",
     "text": [
      "Epoch 1, Step 1: Loss2.9841938\n",
      "Epoch 1, Step 100: Loss0.39551705\n",
      "Epoch 1, Step 200: Loss0.40212953\n",
      "Epoch 1, Step 300: Loss0.111210674\n",
      "Epoch 1, Step 400: Loss0.18789619\n",
      "Epoch 2, Step 1: Loss0.29919273\n",
      "Epoch 2, Step 100: Loss0.0877471\n",
      "Epoch 2, Step 200: Loss0.041257855\n",
      "Epoch 2, Step 300: Loss0.04720604\n",
      "Epoch 2, Step 400: Loss0.07049702\n",
      "Epoch 3, Step 1: Loss0.07601385\n",
      "Epoch 3, Step 100: Loss0.054375768\n",
      "Epoch 3, Step 200: Loss0.06380245\n",
      "Epoch 3, Step 300: Loss0.06749026\n",
      "Epoch 3, Step 400: Loss0.08069122\n",
      "Epoch 4, Step 1: Loss0.11890747\n",
      "Epoch 4, Step 100: Loss0.0724937\n",
      "Epoch 4, Step 200: Loss0.06244407\n",
      "Epoch 4, Step 300: Loss0.019563688\n",
      "Epoch 4, Step 400: Loss0.0177349\n",
      "Epoch 5, Step 1: Loss0.05508262\n",
      "Epoch 5, Step 100: Loss0.043717932\n",
      "Epoch 5, Step 200: Loss0.045580048\n",
      "Epoch 5, Step 300: Loss0.08953446\n",
      "Epoch 5, Step 400: Loss0.09021424\n",
      "Epoch 6, Step 1: Loss0.026885862\n",
      "Epoch 6, Step 100: Loss0.020199792\n",
      "Epoch 6, Step 200: Loss0.022588272\n",
      "Epoch 6, Step 300: Loss0.009548368\n",
      "Epoch 6, Step 400: Loss0.01845584\n",
      "Epoch 7, Step 1: Loss0.0662761\n",
      "Epoch 7, Step 100: Loss0.01541172\n",
      "Epoch 7, Step 200: Loss0.036764406\n",
      "Epoch 7, Step 300: Loss0.029732151\n",
      "Epoch 7, Step 400: Loss0.041919265\n",
      "Epoch 8, Step 1: Loss0.0082349535\n",
      "Epoch 8, Step 100: Loss0.11432757\n",
      "Epoch 8, Step 200: Loss0.029317997\n",
      "Epoch 8, Step 300: Loss0.032076642\n",
      "Epoch 8, Step 400: Loss0.020344764\n",
      "Epoch 9, Step 1: Loss0.031293508\n",
      "Epoch 9, Step 100: Loss0.0056838547\n",
      "Epoch 9, Step 200: Loss0.022723954\n",
      "Epoch 9, Step 300: Loss0.043159775\n",
      "Epoch 9, Step 400: Loss0.019461107\n",
      "Epoch 10, Step 1: Loss0.023681212\n",
      "Epoch 10, Step 100: Loss0.040771067\n",
      "Epoch 10, Step 200: Loss0.034150597\n",
      "Epoch 10, Step 300: Loss0.010227654\n",
      "Epoch 10, Step 400: Loss0.04799109\n",
      "Training finished!\n",
      "Accuracy: 0.99\n"
     ]
    },
    {
     "data": {
      "image/png": "[encoded data removed]",
      "text/plain": [
       "<matplotlib.figure.Figure at 0x1fe43324780>"
      ]
     },
     "metadata": {},
     "output_type": "display_data"
    }
   ],
   "source": [
    "# Beginning of the training Section\n",
    "with tf.Session() as sess:\n",
    "    \n",
    "    # Initialization\n",
    "    sess.run(init)\n",
    "\n",
    "    total_steps = int(55000/batch_size)\n",
    "    loss_list = []\n",
    "    acc_list = []\n",
    "    for epoch in range(1, total_epochs+1):\n",
    "        for step in range(1, total_steps+1):\n",
    "            \n",
    "            # Sample a batch of examples\n",
    "            batch_x, batch_y = mnist.train.next_batch(batch_size)\n",
    "            \n",
    "            # Reshape the 784*1 vector into 28*28,\n",
    "            # which is the shape we want to feed into out model\n",
    "            batch_x = batch_x.reshape(batch_size, timesteps, input_size)\n",
    "            \n",
    "            # Feed data into our model\n",
    "            acc, loss, _ = sess.run([accuracy, loss_op, train_op], feed_dict={X:batch_x, Y:batch_y})\n",
    "            loss_list.append(loss)\n",
    "            acc_list.append(acc)\n",
    "            if step%display_step == 0 or step == 1:\n",
    "                print(\"Epoch \"+str(epoch)+\", Step \"+str(step)+\": Loss\"+str(loss))\n",
    "                #loss_list.append(loss)\n",
    "\n",
    "    print(\"Training finished!\")\n",
    "    \n",
    "    # Test our model\n",
    "    test_len = 100\n",
    "    test_x = mnist.test.images[:test_len].reshape((-1, timesteps, input_size))\n",
    "    test_y = mnist.test.labels[:test_len]\n",
    "    test_accuracy = sess.run(accuracy, feed_dict={X:test_x, Y:test_y})\n",
    "    print(\"Accuracy: \"+str(test_accuracy))\n",
    "    plt.plot(loss_list)\n",
    "    plt.plot(acc_list)\n",
    "    plt.show()"
   ]
  },
  {
   "cell_type": "code",
   "execution_count": null,
   "metadata": {
    "collapsed": true
   },
   "outputs": [],
   "source": []
  }
 ],
 "metadata": {
  "kernelspec": {
   "display_name": "Python [default]",
   "language": "python",
   "name": "python3"
  },
  "language_info": {
   "codemirror_mode": {
    "name": "ipython",
    "version": 3
   },
   "file_extension": ".py",
   "mimetype": "text/x-python",
   "name": "python",
   "nbconvert_exporter": "python",
   "pygments_lexer": "ipython3",
   "version": "3.6.2"
  }
 },
 "nbformat": 4,
 "nbformat_minor": 2
}
