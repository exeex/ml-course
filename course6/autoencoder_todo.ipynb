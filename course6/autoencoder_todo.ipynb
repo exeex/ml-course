{
 "cells": [
  {
   "cell_type": "code",
   "execution_count": 3,
   "metadata": {
    "ExecuteTime": {
     "end_time": "2018-05-23T09:55:29.369586Z",
     "start_time": "2018-05-23T09:55:28.262682Z"
    }
   },
   "outputs": [
    {
     "name": "stdout",
     "output_type": "stream",
     "text": [
      "Extracting ./data/train-images-idx3-ubyte.gz\n",
      "Extracting ./data/train-labels-idx1-ubyte.gz\n",
      "Extracting ./data/t10k-images-idx3-ubyte.gz\n",
      "Extracting ./data/t10k-labels-idx1-ubyte.gz\n"
     ]
    }
   ],
   "source": [
    "%matplotlib inline\n",
    "import tensorflow as tf\n",
    "import numpy as np\n",
    "import matplotlib.pyplot as plt\n",
    "from tensorflow.examples.tutorials.mnist import input_data\n",
    "mnist = input_data.read_data_sets('./data/', one_hot=True)"
   ]
  },
  {
   "cell_type": "code",
   "execution_count": 6,
   "metadata": {
    "ExecuteTime": {
     "end_time": "2018-05-23T09:55:37.108817Z",
     "start_time": "2018-05-23T09:55:37.092801Z"
    },
    "collapsed": true
   },
   "outputs": [],
   "source": [
    "#Parameters for training\n",
    "batch_size = 128\n",
    "num_epoch = 1\n",
    "learning_rate = 0.0001\n",
    "display_step = 100\n",
    "#Parameters for constructing model\n",
    "image_height, image_width = 28, 28\n",
    "k1_size = (5, 5)\n",
    "k2_size = (5, 5)\n",
    "k3_size = (5, 5)\n",
    "k4_size = (5, 5)\n",
    "in_channel1, in_channel2, in_channel3 = 1, 16, 32"
   ]
  },
  {
   "cell_type": "code",
   "execution_count": 5,
   "metadata": {
    "ExecuteTime": {
     "end_time": "2018-05-23T09:55:31.143031Z",
     "start_time": "2018-05-23T09:55:31.127055Z"
    },
    "collapsed": true
   },
   "outputs": [],
   "source": [
    "# Information about convolution and transpose convolution:\n",
    "# https://github.com/vdumoulin/conv_arithmetic/blob/master/README.md\n",
    "\n",
    "# Define convolution layer ops for constructing model\n",
    "def conv2d(x, channels, kernel_size):\n",
    "    return tf.layers.conv2d(inputs=x, filters=channels, kernel_size=kernel_size, strides=(1,1), padding='SAME', activation=tf.nn.relu)\n",
    "\n",
    "def conv2d_transpose(h, channels, kernel_size):\n",
    "    return tf.layers.conv2d_transpose(inputs=h, filters=channels, kernel_size=kernel_size, strides=(1,1), padding='SAME', activation=tf.sigmoid)\n",
    "    "
   ]
  },
  {
   "cell_type": "code",
   "execution_count": 4,
   "metadata": {
    "collapsed": true
   },
   "outputs": [],
   "source": [
    "# TODO: Construct an encoder with two 2-D convolution layer and return h\n",
    "def encoder(x, in_channel1, in_channel2, k1_size, k2_size):\n",
    "    ???\n",
    "    return ???"
   ]
  },
  {
   "cell_type": "code",
   "execution_count": 5,
   "metadata": {
    "collapsed": true
   },
   "outputs": [],
   "source": [
    "# TODO: Construct a decoder with two trnsposed 2-D convolution layer and return the reconstructed image\n",
    "def decoder(h, out_channel1, out_channel2, k1_size, k2_size):\n",
    "    ???\n",
    "    return ???"
   ]
  },
  {
   "cell_type": "code",
   "execution_count": 6,
   "metadata": {
    "collapsed": true
   },
   "outputs": [],
   "source": [
    "X = tf.placeholder(tf.float32, shape=[None, image_height, image_width, 1])"
   ]
  },
  {
   "cell_type": "code",
   "execution_count": 7,
   "metadata": {
    "collapsed": true
   },
   "outputs": [],
   "source": [
    "# TODO: Build the auto encoder model\n",
    "encoded_vec = \n",
    "reconstructed = \n",
    "loss_op = tf.reduce_mean(tf.square(tf.subtract(reconstructed, X)))\n",
    "train_op = tf.train.AdamOptimizer(learning_rate).minimize(loss_op)"
   ]
  },
  {
   "cell_type": "code",
   "execution_count": 8,
   "metadata": {},
   "outputs": [
    {
     "name": "stdout",
     "output_type": "stream",
     "text": [
      "Epoch:  1 Step:  1 Loss:  0.41210833\n",
      "Epoch:  1 Step:  100 Loss:  0.052818876\n",
      "Epoch:  1 Step:  200 Loss:  0.013820697\n",
      "Epoch:  1 Step:  300 Loss:  0.008106506\n",
      "Epoch:  1 Step:  400 Loss:  0.005331836\n",
      "Epoch:  2 Step:  1 Loss:  0.0047927466\n",
      "Epoch:  2 Step:  100 Loss:  0.003556026\n",
      "Epoch:  2 Step:  200 Loss:  0.002810175\n",
      "Epoch:  2 Step:  300 Loss:  0.0023349428\n",
      "Epoch:  2 Step:  400 Loss:  0.002004261\n",
      "Epoch:  3 Step:  1 Loss:  0.0019229332\n",
      "Epoch:  3 Step:  100 Loss:  0.001702882\n",
      "Epoch:  3 Step:  200 Loss:  0.0015321404\n",
      "Epoch:  3 Step:  300 Loss:  0.0013938692\n",
      "Epoch:  3 Step:  400 Loss:  0.0012779598\n",
      "Epoch:  4 Step:  1 Loss:  0.0012466876\n",
      "Epoch:  4 Step:  100 Loss:  0.0011527986\n",
      "Epoch:  4 Step:  200 Loss:  0.0010703485\n",
      "Epoch:  4 Step:  300 Loss:  0.0009979642\n",
      "Epoch:  4 Step:  400 Loss:  0.0009335891\n",
      "Epoch:  5 Step:  1 Loss:  0.0009155919\n",
      "Epoch:  5 Step:  100 Loss:  0.0008603938\n",
      "Epoch:  5 Step:  200 Loss:  0.0008104969\n",
      "Epoch:  5 Step:  300 Loss:  0.0007661356\n",
      "Epoch:  5 Step:  400 Loss:  0.0007267745\n",
      "Epoch:  6 Step:  1 Loss:  0.0007158402\n",
      "Epoch:  6 Step:  100 Loss:  0.0006822427\n",
      "Epoch:  6 Step:  200 Loss:  0.0006517832\n",
      "Epoch:  6 Step:  300 Loss:  0.0006243151\n",
      "Epoch:  6 Step:  400 Loss:  0.00059939\n",
      "Epoch:  7 Step:  1 Loss:  0.00059235503\n",
      "Epoch:  7 Step:  100 Loss:  0.00057045795\n",
      "Epoch:  7 Step:  200 Loss:  0.0005502186\n",
      "Epoch:  7 Step:  300 Loss:  0.00053160783\n",
      "Epoch:  7 Step:  400 Loss:  0.0005144343\n",
      "Epoch:  8 Step:  1 Loss:  0.0005095388\n",
      "Epoch:  8 Step:  100 Loss:  0.0004941456\n",
      "Epoch:  8 Step:  200 Loss:  0.00047965246\n",
      "Epoch:  8 Step:  300 Loss:  0.00046612922\n",
      "Epoch:  8 Step:  400 Loss:  0.00045348925\n",
      "Epoch:  9 Step:  1 Loss:  0.0004498526\n",
      "Epoch:  9 Step:  100 Loss:  0.0004383159\n",
      "Epoch:  9 Step:  200 Loss:  0.00042733064\n",
      "Epoch:  9 Step:  300 Loss:  0.0004169234\n",
      "Epoch:  9 Step:  400 Loss:  0.00040703712\n",
      "Epoch:  10 Step:  1 Loss:  0.0004041632\n",
      "Epoch:  10 Step:  100 Loss:  0.0003949736\n",
      "Epoch:  10 Step:  200 Loss:  0.00038616834\n",
      "Epoch:  10 Step:  300 Loss:  0.00037784083\n",
      "Epoch:  10 Step:  400 Loss:  0.00036993215\n",
      "Finish Training!\n"
     ]
    },
    {
     "data": {
      "image/png": "[encoded data removed]",
      "text/plain": [
       "<matplotlib.figure.Figure at 0x2729ae98e10>"
      ]
     },
     "metadata": {},
     "output_type": "display_data"
    },
    {
     "data": {
      "image/png": "[encoded data removed]",
      "text/plain": [
       "<matplotlib.figure.Figure at 0x272aa6d01d0>"
      ]
     },
     "metadata": {},
     "output_type": "display_data"
    }
   ],
   "source": [
    "with tf.Session() as sess:\n",
    "    sess.run(tf.global_variables_initializer())\n",
    "    batch_x, batch_y = mnist.train.next_batch(batch_size)\n",
    "    batch_x = batch_x.reshape(batch_size, image_height, image_width, 1)\n",
    "    total_steps = int(55000/batch_size)\n",
    "    for epoch in range(1,num_epoch+1):\n",
    "        for step in range(1,total_steps+1):\n",
    "            _, train_loss = sess.run([train_op, loss_op], feed_dict={X:batch_x})\n",
    "            if step%display_step == 0 or step == 1:\n",
    "                print('Epoch: ', epoch, 'Step: ', step, 'Loss: ', train_loss)\n",
    "    print('Finish Training!')\n",
    "    \n",
    "    # Testing section\n",
    "    test_len = 10\n",
    "    test_x = mnist.test.images[:test_len].reshape(-1, image_height, image_width, 1)\n",
    "    test_y = mnist.test.labels[:test_len]\n",
    "    output_images = sess.run(reconstructed, feed_dict={X:test_x})\n",
    "    \n",
    "    # plot visualize the test input and output images \n",
    "    fig, axeslist = plt.subplots(ncols=5, nrows=int(test_len/5))\n",
    "    for index,title in zip(range(test_len), test_x):\n",
    "        axeslist.ravel()[index].imshow(title.reshape(28,28), cmap=plt.gray())\n",
    "        axeslist.ravel()[index].set_title(np.argmax(test_y[index]))\n",
    "        axeslist.ravel()[index].set_axis_off()\n",
    "    fig, axeslist = plt.subplots(ncols=5, nrows=int(test_len/5))\n",
    "    for index,title in zip(range(test_len), output_images):\n",
    "        axeslist.ravel()[index].imshow(title.reshape(28,28), cmap=plt.gray())\n",
    "        axeslist.ravel()[index].set_title(np.argmax(test_y[index]))\n",
    "        axeslist.ravel()[index].set_axis_off()\n"
   ]
  },
  {
   "cell_type": "code",
   "execution_count": null,
   "metadata": {
    "collapsed": true
   },
   "outputs": [],
   "source": []
  }
 ],
 "metadata": {
  "kernelspec": {
   "display_name": "Python [default]",
   "language": "python",
   "name": "python3"
  },
  "language_info": {
   "codemirror_mode": {
    "name": "ipython",
    "version": 3
   },
   "file_extension": ".py",
   "mimetype": "text/x-python",
   "name": "python",
   "nbconvert_exporter": "python",
   "pygments_lexer": "ipython3",
   "version": "3.6.2"
  }
 },
 "nbformat": 4,
 "nbformat_minor": 2
}
